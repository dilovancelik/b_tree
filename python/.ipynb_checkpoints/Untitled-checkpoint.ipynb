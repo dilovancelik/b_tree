{
 "cells": [
  {
   "cell_type": "code",
   "execution_count": 1,
   "id": "16545d8a-30f7-446f-916d-bfd5a5b2920a",
   "metadata": {},
   "outputs": [],
   "source": [
    "import random\n",
    "import b_tree\n",
    "\n",
    "tree = b_tree.BTree(min_degree=3)"
   ]
  },
  {
   "cell_type": "code",
   "execution_count": 2,
   "id": "7bb0611a-a912-4ab6-af04-9eb81ae172c8",
   "metadata": {},
   "outputs": [
    {
     "name": "stdout",
     "output_type": "stream",
     "text": [
      "BTreeNode(keys=[], children=[], min_degree=2)\n",
      "Key: 130 inserted\n"
     ]
    }
   ],
   "source": [
    "tree.insert(130)"
   ]
  },
  {
   "cell_type": "code",
   "execution_count": 3,
   "id": "37a1f9e3-ede4-4ab9-804f-83cebd553cbb",
   "metadata": {},
   "outputs": [
    {
     "name": "stdout",
     "output_type": "stream",
     "text": [
      "BTreeNode(keys=[130], children=[], min_degree=2)\n",
      "Key: 20 inserted\n"
     ]
    }
   ],
   "source": [
    "tree.insert(20)"
   ]
  },
  {
   "cell_type": "code",
   "execution_count": 4,
   "id": "feabd1cd-e52a-41f7-be52-4d4bc235126a",
   "metadata": {},
   "outputs": [
    {
     "name": "stdout",
     "output_type": "stream",
     "text": [
      "BTreeNode(keys=[20, 130], children=[], min_degree=2)\n",
      "Key: 200 inserted\n"
     ]
    }
   ],
   "source": [
    "tree.insert(200)"
   ]
  },
  {
   "cell_type": "code",
   "execution_count": 5,
   "id": "c7a6b571-b18e-495b-8bf3-d1f36c754df8",
   "metadata": {},
   "outputs": [
    {
     "name": "stdout",
     "output_type": "stream",
     "text": [
      "BTreeNode(keys=[20, 130, 200], children=[], min_degree=2)\n",
      "Key: 150 inserted\n"
     ]
    }
   ],
   "source": [
    "tree.insert(150)"
   ]
  },
  {
   "cell_type": "code",
   "execution_count": 6,
   "id": "c4c266ce-f6a4-4d52-a647-ce40fe1a9fad",
   "metadata": {},
   "outputs": [
    {
     "data": {
      "text/plain": [
       "BTree(root=BTreeNode(keys=[130], children=[BTreeNode(keys=[20], children=[], min_degree=2), BTreeNode(keys=[150, 200], children=[], min_degree=2)], min_degree=2), min_degree=2)"
      ]
     },
     "execution_count": 6,
     "metadata": {},
     "output_type": "execute_result"
    }
   ],
   "source": [
    "tree"
   ]
  },
  {
   "cell_type": "code",
   "execution_count": 7,
   "id": "9868f3ae-be6a-48e0-84f5-174c89ae60fc",
   "metadata": {},
   "outputs": [
    {
     "name": "stdout",
     "output_type": "stream",
     "text": [
      "BTreeNode(keys=[130], children=[BTreeNode(keys=[20], children=[], min_degree=2), BTreeNode(keys=[150, 200], children=[], min_degree=2)], min_degree=2)\n",
      "child: [BTreeNode(keys=[20], children=[], min_degree=2), BTreeNode(keys=[150, 200], children=[], min_degree=2)], i: 0\n",
      "BTreeNode(keys=[150, 200], children=[], min_degree=2)\n",
      "Key: 90 inserted\n"
     ]
    }
   ],
   "source": [
    "tree.insert(90)"
   ]
  },
  {
   "cell_type": "code",
   "execution_count": 8,
   "id": "6fa50cce-8cdf-4d68-b252-fc3dd08e1659",
   "metadata": {},
   "outputs": [
    {
     "data": {
      "text/plain": [
       "BTree(root=BTreeNode(keys=[130], children=[BTreeNode(keys=[20, 90], children=[], min_degree=2), BTreeNode(keys=[150, 200], children=[], min_degree=2)], min_degree=2), min_degree=2)"
      ]
     },
     "execution_count": 8,
     "metadata": {},
     "output_type": "execute_result"
    }
   ],
   "source": [
    "tree"
   ]
  },
  {
   "cell_type": "code",
   "execution_count": 9,
   "id": "ecabe856-e0ba-4415-a348-7d7d9eea9d05",
   "metadata": {},
   "outputs": [
    {
     "name": "stdout",
     "output_type": "stream",
     "text": [
      "BTreeNode(keys=[130], children=[BTreeNode(keys=[20, 90], children=[], min_degree=2), BTreeNode(keys=[150, 200], children=[], min_degree=2)], min_degree=2)\n",
      "child: [BTreeNode(keys=[20, 90], children=[], min_degree=2), BTreeNode(keys=[150, 200], children=[], min_degree=2)], i: 0\n",
      "BTreeNode(keys=[150, 200], children=[], min_degree=2)\n",
      "Key: 55 inserted\n"
     ]
    }
   ],
   "source": [
    "tree.insert(55)"
   ]
  },
  {
   "cell_type": "code",
   "execution_count": 10,
   "id": "b7a907f2-ac16-4392-a326-6d2cb5066e87",
   "metadata": {},
   "outputs": [
    {
     "data": {
      "text/plain": [
       "BTree(root=BTreeNode(keys=[130], children=[BTreeNode(keys=[20, 55, 90], children=[], min_degree=2), BTreeNode(keys=[150, 200], children=[], min_degree=2)], min_degree=2), min_degree=2)"
      ]
     },
     "execution_count": 10,
     "metadata": {},
     "output_type": "execute_result"
    }
   ],
   "source": [
    "tree"
   ]
  },
  {
   "cell_type": "code",
   "execution_count": 11,
   "id": "a29c4be4-9a2d-4f55-afa3-081c94df86b3",
   "metadata": {},
   "outputs": [
    {
     "name": "stdout",
     "output_type": "stream",
     "text": [
      "BTreeNode(keys=[130], children=[BTreeNode(keys=[20, 55, 90], children=[], min_degree=2), BTreeNode(keys=[150, 200], children=[], min_degree=2)], min_degree=2)\n",
      "child: [BTreeNode(keys=[20, 55, 90], children=[], min_degree=2), BTreeNode(keys=[150, 200], children=[], min_degree=2)], i: 0\n",
      "BTreeNode(keys=[150, 200], children=[], min_degree=2)\n",
      "Key: 19 inserted\n"
     ]
    }
   ],
   "source": [
    "tree.insert(19)"
   ]
  },
  {
   "cell_type": "code",
   "execution_count": 12,
   "id": "dff60da7-ca1d-435f-be83-9fa7c36acca2",
   "metadata": {},
   "outputs": [
    {
     "data": {
      "text/plain": [
       "BTree(root=BTreeNode(keys=[55, 130], children=[BTreeNode(keys=[20], children=[], min_degree=2), BTreeNode(keys=[19, 90], children=[], min_degree=2), BTreeNode(keys=[150, 200], children=[], min_degree=2)], min_degree=2), min_degree=2)"
      ]
     },
     "execution_count": 12,
     "metadata": {},
     "output_type": "execute_result"
    }
   ],
   "source": [
    "tree"
   ]
  },
  {
   "cell_type": "code",
   "execution_count": 13,
   "id": "a4cac96c-5e67-4ddd-b376-d0e64ec1e4a2",
   "metadata": {},
   "outputs": [
    {
     "name": "stdout",
     "output_type": "stream",
     "text": [
      "BTreeNode(keys=[55, 130], children=[BTreeNode(keys=[20], children=[], min_degree=2), BTreeNode(keys=[19, 90], children=[], min_degree=2), BTreeNode(keys=[150, 200], children=[], min_degree=2)], min_degree=2)\n",
      "child: [BTreeNode(keys=[20], children=[], min_degree=2), BTreeNode(keys=[19, 90], children=[], min_degree=2), BTreeNode(keys=[150, 200], children=[], min_degree=2)], i: 1\n",
      "BTreeNode(keys=[20], children=[], min_degree=2)\n",
      "Key: 65 inserted\n"
     ]
    }
   ],
   "source": [
    "tree.insert(65)"
   ]
  },
  {
   "cell_type": "code",
   "execution_count": 14,
   "id": "1d9eb0e6-fdae-4f73-9291-4fc1a4551242",
   "metadata": {},
   "outputs": [
    {
     "name": "stdout",
     "output_type": "stream",
     "text": [
      "BTreeNode(keys=[55, 130], children=[BTreeNode(keys=[20], children=[], min_degree=2), BTreeNode(keys=[19, 65, 90], children=[], min_degree=2), BTreeNode(keys=[150, 200], children=[], min_degree=2)], min_degree=2)\n",
      "child: [BTreeNode(keys=[20], children=[], min_degree=2), BTreeNode(keys=[19, 65, 90], children=[], min_degree=2), BTreeNode(keys=[150, 200], children=[], min_degree=2)], i: 1\n",
      "BTreeNode(keys=[20], children=[], min_degree=2)\n",
      "Key: 100 inserted\n"
     ]
    }
   ],
   "source": [
    "tree.insert(100)"
   ]
  },
  {
   "cell_type": "code",
   "execution_count": 15,
   "id": "38a8ceb0-954f-4777-a667-713f2364dc1a",
   "metadata": {},
   "outputs": [
    {
     "data": {
      "text/plain": [
       "BTree(root=BTreeNode(keys=[55, 65, 130], children=[BTreeNode(keys=[20], children=[], min_degree=2), BTreeNode(keys=[19], children=[], min_degree=2), BTreeNode(keys=[90, 100], children=[], min_degree=2), BTreeNode(keys=[150, 200], children=[], min_degree=2)], min_degree=2), min_degree=2)"
      ]
     },
     "execution_count": 15,
     "metadata": {},
     "output_type": "execute_result"
    }
   ],
   "source": [
    "tree"
   ]
  },
  {
   "cell_type": "code",
   "execution_count": 16,
   "id": "beda974c-1686-44b5-873a-f942dc9f913f",
   "metadata": {},
   "outputs": [
    {
     "name": "stdout",
     "output_type": "stream",
     "text": [
      "BTreeNode(keys=[55, 65, 130], children=[BTreeNode(keys=[20], children=[], min_degree=2), BTreeNode(keys=[19], children=[], min_degree=2), BTreeNode(keys=[90, 100], children=[], min_degree=2), BTreeNode(keys=[150, 200], children=[], min_degree=2)], min_degree=2)\n",
      "child: [BTreeNode(keys=[20], children=[], min_degree=2), BTreeNode(keys=[19], children=[], min_degree=2), BTreeNode(keys=[90, 100], children=[], min_degree=2), BTreeNode(keys=[150, 200], children=[], min_degree=2)], i: 3\n",
      "BTreeNode(keys=[90, 100], children=[], min_degree=2)\n",
      "Key: 300 inserted\n"
     ]
    }
   ],
   "source": [
    "tree.insert(300)"
   ]
  },
  {
   "cell_type": "code",
   "execution_count": 17,
   "id": "0451db3d-64c4-484d-8147-691a795cc216",
   "metadata": {},
   "outputs": [
    {
     "data": {
      "text/plain": [
       "BTree(root=BTreeNode(keys=[65], children=[BTreeNode(keys=[55], children=[BTreeNode(keys=[20], children=[], min_degree=2)], min_degree=2), BTreeNode(keys=[130], children=[BTreeNode(keys=[90, 100], children=[], min_degree=2), BTreeNode(keys=[150, 200, 300], children=[], min_degree=2)], min_degree=2)], min_degree=2), min_degree=2)"
      ]
     },
     "execution_count": 17,
     "metadata": {},
     "output_type": "execute_result"
    }
   ],
   "source": [
    "tree"
   ]
  },
  {
   "cell_type": "code",
   "execution_count": 18,
   "id": "efcb9a1f-462b-4864-9960-555b92dbe9c8",
   "metadata": {},
   "outputs": [],
   "source": [
    "#tree.insert(56)"
   ]
  },
  {
   "cell_type": "code",
   "execution_count": 19,
   "id": "4ec5510d-ab90-4af9-a02b-1a023b39976c",
   "metadata": {},
   "outputs": [
    {
     "name": "stdout",
     "output_type": "stream",
     "text": [
      "BTreeNode(keys=[65], children=[BTreeNode(keys=[55], children=[BTreeNode(keys=[20], children=[], min_degree=2)], min_degree=2), BTreeNode(keys=[130], children=[BTreeNode(keys=[90, 100], children=[], min_degree=2), BTreeNode(keys=[150, 200, 300], children=[], min_degree=2)], min_degree=2)], min_degree=2)\n",
      "child: [BTreeNode(keys=[55], children=[BTreeNode(keys=[20], children=[], min_degree=2)], min_degree=2), BTreeNode(keys=[130], children=[BTreeNode(keys=[90, 100], children=[], min_degree=2), BTreeNode(keys=[150, 200, 300], children=[], min_degree=2)], min_degree=2)], i: 0\n",
      "BTreeNode(keys=[130], children=[BTreeNode(keys=[90, 100], children=[], min_degree=2), BTreeNode(keys=[150, 200, 300], children=[], min_degree=2)], min_degree=2)\n",
      "child: [BTreeNode(keys=[90, 100], children=[], min_degree=2), BTreeNode(keys=[150, 200, 300], children=[], min_degree=2)], i: 0\n",
      "BTreeNode(keys=[150, 200, 300], children=[], min_degree=2)\n"
     ]
    },
    {
     "ename": "LookupError",
     "evalue": "Key not available in tree",
     "output_type": "error",
     "traceback": [
      "\u001b[0;31m---------------------------------------------------------------------------\u001b[0m",
      "\u001b[0;31mLookupError\u001b[0m                               Traceback (most recent call last)",
      "Cell \u001b[0;32mIn[19], line 1\u001b[0m\n\u001b[0;32m----> 1\u001b[0m \u001b[43mtree\u001b[49m\u001b[38;5;241;43m.\u001b[39;49m\u001b[43msearch\u001b[49m\u001b[43m(\u001b[49m\u001b[38;5;241;43m56\u001b[39;49m\u001b[43m)\u001b[49m\n",
      "File \u001b[0;32m~/repos/b_tree/python/b_tree.py:75\u001b[0m, in \u001b[0;36mBTree.search\u001b[0;34m(self, key)\u001b[0m\n\u001b[1;32m     74\u001b[0m \u001b[38;5;28;01mdef\u001b[39;00m \u001b[38;5;21msearch\u001b[39m(\u001b[38;5;28mself\u001b[39m, key) \u001b[38;5;241m-\u001b[39m\u001b[38;5;241m>\u001b[39m \u001b[38;5;28mint\u001b[39m:\n\u001b[0;32m---> 75\u001b[0m     \u001b[38;5;28;43mself\u001b[39;49m\u001b[38;5;241;43m.\u001b[39;49m\u001b[43mroot\u001b[49m\u001b[38;5;241;43m.\u001b[39;49m\u001b[43msearch_node\u001b[49m\u001b[43m(\u001b[49m\u001b[43mkey\u001b[49m\u001b[43m)\u001b[49m\n",
      "File \u001b[0;32m~/repos/b_tree/python/b_tree.py:30\u001b[0m, in \u001b[0;36mBTreeNode.search_node\u001b[0;34m(self, key)\u001b[0m\n\u001b[1;32m     28\u001b[0m i \u001b[38;5;241m=\u001b[39m \u001b[38;5;28msum\u001b[39m(\u001b[38;5;241m1\u001b[39m \u001b[38;5;28;01mfor\u001b[39;00m x \u001b[38;5;129;01min\u001b[39;00m \u001b[38;5;28mself\u001b[39m\u001b[38;5;241m.\u001b[39mkeys \u001b[38;5;28;01mif\u001b[39;00m x \u001b[38;5;241m<\u001b[39m key)\n\u001b[1;32m     29\u001b[0m \u001b[38;5;28mprint\u001b[39m(\u001b[38;5;124mf\u001b[39m\u001b[38;5;124m\"\u001b[39m\u001b[38;5;124mchild: \u001b[39m\u001b[38;5;132;01m{\u001b[39;00m\u001b[38;5;28mself\u001b[39m\u001b[38;5;241m.\u001b[39mchildren\u001b[38;5;132;01m}\u001b[39;00m\u001b[38;5;124m, i: \u001b[39m\u001b[38;5;132;01m{\u001b[39;00mi\u001b[38;5;132;01m}\u001b[39;00m\u001b[38;5;124m\"\u001b[39m)\n\u001b[0;32m---> 30\u001b[0m \u001b[38;5;28;43mself\u001b[39;49m\u001b[38;5;241;43m.\u001b[39;49m\u001b[43mchildren\u001b[49m\u001b[43m[\u001b[49m\u001b[43mi\u001b[49m\u001b[38;5;241;43m-\u001b[39;49m\u001b[38;5;241;43m1\u001b[39;49m\u001b[43m]\u001b[49m\u001b[38;5;241;43m.\u001b[39;49m\u001b[43msearch_node\u001b[49m\u001b[43m(\u001b[49m\u001b[43mkey\u001b[49m\u001b[43m \u001b[49m\u001b[38;5;241;43m=\u001b[39;49m\u001b[43m \u001b[49m\u001b[43mkey\u001b[49m\u001b[43m)\u001b[49m\n",
      "File \u001b[0;32m~/repos/b_tree/python/b_tree.py:30\u001b[0m, in \u001b[0;36mBTreeNode.search_node\u001b[0;34m(self, key)\u001b[0m\n\u001b[1;32m     28\u001b[0m i \u001b[38;5;241m=\u001b[39m \u001b[38;5;28msum\u001b[39m(\u001b[38;5;241m1\u001b[39m \u001b[38;5;28;01mfor\u001b[39;00m x \u001b[38;5;129;01min\u001b[39;00m \u001b[38;5;28mself\u001b[39m\u001b[38;5;241m.\u001b[39mkeys \u001b[38;5;28;01mif\u001b[39;00m x \u001b[38;5;241m<\u001b[39m key)\n\u001b[1;32m     29\u001b[0m \u001b[38;5;28mprint\u001b[39m(\u001b[38;5;124mf\u001b[39m\u001b[38;5;124m\"\u001b[39m\u001b[38;5;124mchild: \u001b[39m\u001b[38;5;132;01m{\u001b[39;00m\u001b[38;5;28mself\u001b[39m\u001b[38;5;241m.\u001b[39mchildren\u001b[38;5;132;01m}\u001b[39;00m\u001b[38;5;124m, i: \u001b[39m\u001b[38;5;132;01m{\u001b[39;00mi\u001b[38;5;132;01m}\u001b[39;00m\u001b[38;5;124m\"\u001b[39m)\n\u001b[0;32m---> 30\u001b[0m \u001b[38;5;28;43mself\u001b[39;49m\u001b[38;5;241;43m.\u001b[39;49m\u001b[43mchildren\u001b[49m\u001b[43m[\u001b[49m\u001b[43mi\u001b[49m\u001b[38;5;241;43m-\u001b[39;49m\u001b[38;5;241;43m1\u001b[39;49m\u001b[43m]\u001b[49m\u001b[38;5;241;43m.\u001b[39;49m\u001b[43msearch_node\u001b[49m\u001b[43m(\u001b[49m\u001b[43mkey\u001b[49m\u001b[43m \u001b[49m\u001b[38;5;241;43m=\u001b[39;49m\u001b[43m \u001b[49m\u001b[43mkey\u001b[49m\u001b[43m)\u001b[49m\n",
      "File \u001b[0;32m~/repos/b_tree/python/b_tree.py:26\u001b[0m, in \u001b[0;36mBTreeNode.search_node\u001b[0;34m(self, key)\u001b[0m\n\u001b[1;32m     23\u001b[0m     \u001b[38;5;28;01mreturn\u001b[39;00m key\n\u001b[1;32m     25\u001b[0m \u001b[38;5;28;01mif\u001b[39;00m \u001b[38;5;28mself\u001b[39m\u001b[38;5;241m.\u001b[39mis_leaf():\n\u001b[0;32m---> 26\u001b[0m     \u001b[38;5;28;01mraise\u001b[39;00m \u001b[38;5;167;01mLookupError\u001b[39;00m(\u001b[38;5;124m\"\u001b[39m\u001b[38;5;124mKey not available in tree\u001b[39m\u001b[38;5;124m\"\u001b[39m)\n\u001b[1;32m     27\u001b[0m \u001b[38;5;28;01melse\u001b[39;00m:\n\u001b[1;32m     28\u001b[0m     i \u001b[38;5;241m=\u001b[39m \u001b[38;5;28msum\u001b[39m(\u001b[38;5;241m1\u001b[39m \u001b[38;5;28;01mfor\u001b[39;00m x \u001b[38;5;129;01min\u001b[39;00m \u001b[38;5;28mself\u001b[39m\u001b[38;5;241m.\u001b[39mkeys \u001b[38;5;28;01mif\u001b[39;00m x \u001b[38;5;241m<\u001b[39m key)\n",
      "\u001b[0;31mLookupError\u001b[0m: Key not available in tree"
     ]
    }
   ],
   "source": [
    "tree.search(56)"
   ]
  },
  {
   "cell_type": "code",
   "execution_count": null,
   "id": "3ddc984d-78e4-467a-b32f-8d367fb58c53",
   "metadata": {},
   "outputs": [],
   "source": [
    "tree"
   ]
  },
  {
   "cell_type": "code",
   "execution_count": null,
   "id": "39c70b9d-f85f-4b0f-af1b-2ba6d62b857c",
   "metadata": {},
   "outputs": [],
   "source": [
    "sum(1 for x in [55] if x < 56)"
   ]
  },
  {
   "cell_type": "code",
   "execution_count": 20,
   "id": "17eacc6d-173c-435e-b23b-df0512e12cb8",
   "metadata": {},
   "outputs": [
    {
     "data": {
      "text/plain": [
       "BTreeNode(keys=[65], children=[BTreeNode(keys=[55], children=[BTreeNode(keys=[20], children=[], min_degree=2)], min_degree=2), BTreeNode(keys=[130], children=[BTreeNode(keys=[90, 100], children=[], min_degree=2), BTreeNode(keys=[150, 200, 300], children=[], min_degree=2)], min_degree=2)], min_degree=2)"
      ]
     },
     "execution_count": 20,
     "metadata": {},
     "output_type": "execute_result"
    }
   ],
   "source": [
    "tree.root"
   ]
  },
  {
   "cell_type": "code",
   "execution_count": 22,
   "id": "d26a6f94-de06-46c9-b1ed-119be1f3485f",
   "metadata": {},
   "outputs": [
    {
     "data": {
      "text/plain": [
       "0"
      ]
     },
     "execution_count": 22,
     "metadata": {},
     "output_type": "execute_result"
    }
   ],
   "source": [
    "sum(1 for x in tree.root.keys if x < 56)"
   ]
  },
  {
   "cell_type": "code",
   "execution_count": 24,
   "id": "2d373c72-b9b2-461a-9638-60867ff7c488",
   "metadata": {},
   "outputs": [
    {
     "data": {
      "text/plain": [
       "BTreeNode(keys=[55], children=[BTreeNode(keys=[20], children=[], min_degree=2)], min_degree=2)"
      ]
     },
     "execution_count": 24,
     "metadata": {},
     "output_type": "execute_result"
    }
   ],
   "source": [
    "tree.root.children[0]"
   ]
  },
  {
   "cell_type": "code",
   "execution_count": 25,
   "id": "c4f84f90-2971-4214-aafe-5a154fda276a",
   "metadata": {},
   "outputs": [
    {
     "data": {
      "text/plain": [
       "1"
      ]
     },
     "execution_count": 25,
     "metadata": {},
     "output_type": "execute_result"
    }
   ],
   "source": [
    "sum(1 for x in tree.root.children[0].keys if x < 56)"
   ]
  },
  {
   "cell_type": "code",
   "execution_count": 26,
   "id": "d08a0bef-2d57-4607-bf2e-c740f0f17434",
   "metadata": {},
   "outputs": [
    {
     "ename": "IndexError",
     "evalue": "list index out of range",
     "output_type": "error",
     "traceback": [
      "\u001b[0;31m---------------------------------------------------------------------------\u001b[0m",
      "\u001b[0;31mIndexError\u001b[0m                                Traceback (most recent call last)",
      "Cell \u001b[0;32mIn[26], line 1\u001b[0m\n\u001b[0;32m----> 1\u001b[0m \u001b[43mtree\u001b[49m\u001b[38;5;241;43m.\u001b[39;49m\u001b[43mroot\u001b[49m\u001b[38;5;241;43m.\u001b[39;49m\u001b[43mchildren\u001b[49m\u001b[43m[\u001b[49m\u001b[38;5;241;43m0\u001b[39;49m\u001b[43m]\u001b[49m\u001b[38;5;241;43m.\u001b[39;49m\u001b[43mchildren\u001b[49m\u001b[43m[\u001b[49m\u001b[38;5;241;43m1\u001b[39;49m\u001b[43m]\u001b[49m\n",
      "\u001b[0;31mIndexError\u001b[0m: list index out of range"
     ]
    }
   ],
   "source": [
    "tree.root.children[0].children[1]"
   ]
  },
  {
   "cell_type": "code",
   "execution_count": null,
   "id": "6f184169-0d24-489f-92c8-3746c9ed2b36",
   "metadata": {},
   "outputs": [],
   "source": []
  }
 ],
 "metadata": {
  "kernelspec": {
   "display_name": "Python 3 (ipykernel)",
   "language": "python",
   "name": "python3"
  },
  "language_info": {
   "codemirror_mode": {
    "name": "ipython",
    "version": 3
   },
   "file_extension": ".py",
   "mimetype": "text/x-python",
   "name": "python",
   "nbconvert_exporter": "python",
   "pygments_lexer": "ipython3",
   "version": "3.9.16"
  }
 },
 "nbformat": 4,
 "nbformat_minor": 5
}
