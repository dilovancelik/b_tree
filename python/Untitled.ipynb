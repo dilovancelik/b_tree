{
 "cells": [
  {
   "cell_type": "code",
   "execution_count": 1,
   "id": "16545d8a-30f7-446f-916d-bfd5a5b2920a",
   "metadata": {},
   "outputs": [],
   "source": [
    "import random\n",
    "import b_tree\n",
    "\n",
    "tree = b_tree.BTree(min_degree=3)"
   ]
  },
  {
   "cell_type": "code",
   "execution_count": 2,
   "id": "7bb0611a-a912-4ab6-af04-9eb81ae172c8",
   "metadata": {},
   "outputs": [
    {
     "name": "stdout",
     "output_type": "stream",
     "text": [
      "Key: 130 inserted\n"
     ]
    }
   ],
   "source": [
    "tree.insert(130)"
   ]
  },
  {
   "cell_type": "code",
   "execution_count": 3,
   "id": "37a1f9e3-ede4-4ab9-804f-83cebd553cbb",
   "metadata": {},
   "outputs": [
    {
     "name": "stdout",
     "output_type": "stream",
     "text": [
      "Key: 20 inserted\n"
     ]
    }
   ],
   "source": [
    "tree.insert(20)"
   ]
  },
  {
   "cell_type": "code",
   "execution_count": 4,
   "id": "feabd1cd-e52a-41f7-be52-4d4bc235126a",
   "metadata": {},
   "outputs": [
    {
     "name": "stdout",
     "output_type": "stream",
     "text": [
      "Key: 200 inserted\n"
     ]
    }
   ],
   "source": [
    "tree.insert(200)"
   ]
  },
  {
   "cell_type": "code",
   "execution_count": 5,
   "id": "c7a6b571-b18e-495b-8bf3-d1f36c754df8",
   "metadata": {},
   "outputs": [
    {
     "name": "stdout",
     "output_type": "stream",
     "text": [
      "Key: 150 inserted\n"
     ]
    }
   ],
   "source": [
    "tree.insert(150)"
   ]
  },
  {
   "cell_type": "code",
   "execution_count": 6,
   "id": "c4c266ce-f6a4-4d52-a647-ce40fe1a9fad",
   "metadata": {},
   "outputs": [
    {
     "data": {
      "text/plain": [
       "BTree(root=BTreeNode(keys=[20, 130, 150, 200], children=[], min_degree=3), min_degree=3)"
      ]
     },
     "execution_count": 6,
     "metadata": {},
     "output_type": "execute_result"
    }
   ],
   "source": [
    "tree"
   ]
  },
  {
   "cell_type": "code",
   "execution_count": 7,
   "id": "9868f3ae-be6a-48e0-84f5-174c89ae60fc",
   "metadata": {},
   "outputs": [
    {
     "name": "stdout",
     "output_type": "stream",
     "text": [
      "Key: 90 inserted\n"
     ]
    }
   ],
   "source": [
    "tree.insert(90)"
   ]
  },
  {
   "cell_type": "code",
   "execution_count": 8,
   "id": "6fa50cce-8cdf-4d68-b252-fc3dd08e1659",
   "metadata": {},
   "outputs": [
    {
     "data": {
      "text/plain": [
       "BTree(root=BTreeNode(keys=[20, 90, 130, 150, 200], children=[], min_degree=3), min_degree=3)"
      ]
     },
     "execution_count": 8,
     "metadata": {},
     "output_type": "execute_result"
    }
   ],
   "source": [
    "tree"
   ]
  },
  {
   "cell_type": "code",
   "execution_count": 9,
   "id": "ecabe856-e0ba-4415-a348-7d7d9eea9d05",
   "metadata": {},
   "outputs": [
    {
     "name": "stdout",
     "output_type": "stream",
     "text": [
      "Key: 55 inserted\n"
     ]
    }
   ],
   "source": [
    "tree.insert(55)"
   ]
  },
  {
   "cell_type": "code",
   "execution_count": 10,
   "id": "b7a907f2-ac16-4392-a326-6d2cb5066e87",
   "metadata": {},
   "outputs": [
    {
     "data": {
      "text/plain": [
       "BTree(root=BTreeNode(keys=[130], children=[BTreeNode(keys=[20, 55, 90], children=[], min_degree=3), BTreeNode(keys=[150, 200], children=[], min_degree=3)], min_degree=3), min_degree=3)"
      ]
     },
     "execution_count": 10,
     "metadata": {},
     "output_type": "execute_result"
    }
   ],
   "source": [
    "tree"
   ]
  },
  {
   "cell_type": "code",
   "execution_count": 11,
   "id": "a29c4be4-9a2d-4f55-afa3-081c94df86b3",
   "metadata": {},
   "outputs": [
    {
     "name": "stdout",
     "output_type": "stream",
     "text": [
      "Key: 19 inserted\n"
     ]
    }
   ],
   "source": [
    "tree.insert(19)"
   ]
  },
  {
   "cell_type": "code",
   "execution_count": 12,
   "id": "dff60da7-ca1d-435f-be83-9fa7c36acca2",
   "metadata": {},
   "outputs": [
    {
     "data": {
      "text/plain": [
       "BTree(root=BTreeNode(keys=[130], children=[BTreeNode(keys=[19, 20, 55, 90], children=[], min_degree=3), BTreeNode(keys=[150, 200], children=[], min_degree=3)], min_degree=3), min_degree=3)"
      ]
     },
     "execution_count": 12,
     "metadata": {},
     "output_type": "execute_result"
    }
   ],
   "source": [
    "tree"
   ]
  },
  {
   "cell_type": "code",
   "execution_count": 13,
   "id": "a4cac96c-5e67-4ddd-b376-d0e64ec1e4a2",
   "metadata": {},
   "outputs": [
    {
     "name": "stdout",
     "output_type": "stream",
     "text": [
      "Key: 65 inserted\n"
     ]
    }
   ],
   "source": [
    "tree.insert(65)"
   ]
  },
  {
   "cell_type": "code",
   "execution_count": 14,
   "id": "1d9eb0e6-fdae-4f73-9291-4fc1a4551242",
   "metadata": {},
   "outputs": [
    {
     "name": "stdout",
     "output_type": "stream",
     "text": [
      "Key: 100 inserted\n"
     ]
    }
   ],
   "source": [
    "tree.insert(100)"
   ]
  },
  {
   "cell_type": "code",
   "execution_count": 15,
   "id": "38a8ceb0-954f-4777-a667-713f2364dc1a",
   "metadata": {},
   "outputs": [
    {
     "data": {
      "text/plain": [
       "BTree(root=BTreeNode(keys=[55, 130], children=[BTreeNode(keys=[19, 20], children=[], min_degree=3), BTreeNode(keys=[65, 90, 100], children=[], min_degree=3), BTreeNode(keys=[150, 200], children=[], min_degree=3)], min_degree=3), min_degree=3)"
      ]
     },
     "execution_count": 15,
     "metadata": {},
     "output_type": "execute_result"
    }
   ],
   "source": [
    "tree"
   ]
  },
  {
   "cell_type": "code",
   "execution_count": 16,
   "id": "beda974c-1686-44b5-873a-f942dc9f913f",
   "metadata": {},
   "outputs": [
    {
     "name": "stdout",
     "output_type": "stream",
     "text": [
      "Key: 300 inserted\n"
     ]
    }
   ],
   "source": [
    "tree.insert(300)"
   ]
  },
  {
   "cell_type": "code",
   "execution_count": 17,
   "id": "0451db3d-64c4-484d-8147-691a795cc216",
   "metadata": {},
   "outputs": [
    {
     "data": {
      "text/plain": [
       "BTree(root=BTreeNode(keys=[55, 130], children=[BTreeNode(keys=[19, 20], children=[], min_degree=3), BTreeNode(keys=[65, 90, 100], children=[], min_degree=3), BTreeNode(keys=[150, 200, 300], children=[], min_degree=3)], min_degree=3), min_degree=3)"
      ]
     },
     "execution_count": 17,
     "metadata": {},
     "output_type": "execute_result"
    }
   ],
   "source": [
    "tree"
   ]
  },
  {
   "cell_type": "code",
   "execution_count": 18,
   "id": "efcb9a1f-462b-4864-9960-555b92dbe9c8",
   "metadata": {},
   "outputs": [
    {
     "name": "stdout",
     "output_type": "stream",
     "text": [
      "Key: 56 inserted\n"
     ]
    }
   ],
   "source": [
    "tree.insert(56)"
   ]
  },
  {
   "cell_type": "code",
   "execution_count": 19,
   "id": "4ec5510d-ab90-4af9-a02b-1a023b39976c",
   "metadata": {},
   "outputs": [],
   "source": [
    "tree.search(56)"
   ]
  },
  {
   "cell_type": "code",
   "execution_count": 20,
   "id": "c7490f91-1141-46dd-b22e-e124e46c3f18",
   "metadata": {},
   "outputs": [
    {
     "name": "stdout",
     "output_type": "stream",
     "text": [
      "Key already exist\n"
     ]
    }
   ],
   "source": [
    "tree.insert(56)"
   ]
  },
  {
   "cell_type": "code",
   "execution_count": null,
   "id": "a5372fea-ad8e-426e-8c56-3ee23e7729b8",
   "metadata": {},
   "outputs": [],
   "source": []
  }
 ],
 "metadata": {
  "kernelspec": {
   "display_name": "Python 3 (ipykernel)",
   "language": "python",
   "name": "python3"
  },
  "language_info": {
   "codemirror_mode": {
    "name": "ipython",
    "version": 3
   },
   "file_extension": ".py",
   "mimetype": "text/x-python",
   "name": "python",
   "nbconvert_exporter": "python",
   "pygments_lexer": "ipython3",
   "version": "3.9.16"
  }
 },
 "nbformat": 4,
 "nbformat_minor": 5
}
